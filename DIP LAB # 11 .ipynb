{
 "cells": [
  {
   "cell_type": "code",
   "execution_count": null,
   "id": "3a1e6fab",
   "metadata": {},
   "outputs": [],
   "source": [
    "import cv2\n",
    "import numpy as np\n",
    "import os\n",
    "from sklearn.neighbors import KNeighborsClassifier\n",
    "from sklearn.model_selection import train_test_split\n",
    "\n",
    "def load_data(data_dir):\n",
    "    features = []\n",
    "    labels = []\n",
    "    for label in range(10):  # For each digit 0-9\n",
    "        digit_dir = os.path.join(data_dir, str(label))\n",
    "        for filename in os.listdir(digit_dir):\n",
    "            img_path = os.path.join(digit_dir, filename)\n",
    "            img = cv2.imread(img_path, cv2.IMREAD_GRAYSCALE)\n",
    "            img = cv2.resize(img, (28, 28))  # Resize to a fixed size\n",
    "            features.append(img.flatten())  # Flatten the image to a vector\n",
    "            labels.append(label)\n",
    "    return np.array(features), np.array(labels)\n",
    "\n",
    "# Load dataset\n",
    "features, labels = load_data('dataset')\n",
    "\n",
    "# Split data into training and testing sets\n",
    "X_train, X_test, y_train, y_test = train_test_split(features, labels, test_size=0.2, random_state=42)\n",
    "\n",
    "# Create and fit the k-NN classifier\n",
    "knn = KNeighborsClassifier(n_neighbors=3)  # You can choose k based on your requirement\n",
    "knn.fit(X_train, y_train)\n",
    "\n",
    "# Test the classifier\n",
    "accuracy = knn.score(X_test, y_test)\n",
    "print(f'Accuracy: {accuracy * 100:.2f}%')\n",
    "\n",
    "def classify_image(image_path):\n",
    "    img = cv2.imread(image_path, cv2.IMREAD_GRAYSCALE)\n",
    "    img = cv2.resize(img, (28, 28))  # Resize to match training images\n",
    "    img_flat = img.flatten().reshape(1, -1)  # Flatten and reshape for prediction\n",
    "    prediction = knn.predict(img_flat)\n",
    "    return prediction[0]\n",
    "\n",
    "# Example usage\n",
    "result = classify_image('test_image.png')\n",
    "print(f'The digit is: {result}')"
   ]
  }
 ],
 "metadata": {
  "kernelspec": {
   "display_name": "Python 3 (ipykernel)",
   "language": "python",
   "name": "python3"
  },
  "language_info": {
   "codemirror_mode": {
    "name": "ipython",
    "version": 3
   },
   "file_extension": ".py",
   "mimetype": "text/x-python",
   "name": "python",
   "nbconvert_exporter": "python",
   "pygments_lexer": "ipython3",
   "version": "3.11.7"
  }
 },
 "nbformat": 4,
 "nbformat_minor": 5
}
