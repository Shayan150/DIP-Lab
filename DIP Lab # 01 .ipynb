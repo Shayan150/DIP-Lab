{
 "cells": [
  {
   "cell_type": "code",
   "execution_count": null,
   "id": "02283048",
   "metadata": {},
   "outputs": [],
   "source": [
    "# SHAYAN HASSAN ABBASI\n",
    "# 01-134212-167\n",
    "# BS(CS)-7B"
   ]
  },
  {
   "cell_type": "code",
   "execution_count": 2,
   "id": "b9450da1",
   "metadata": {},
   "outputs": [
    {
     "name": "stdout",
     "output_type": "stream",
     "text": [
      "Enter the number of rows: 3\n",
      "Enter the number of columns: 3\n",
      "Enter the entries for the first matrix: \n",
      "1 2 3\n",
      "4 5 6\n",
      "7 8 9\n",
      "Enter the entries for the second matrix: \n",
      "9 8 7\n",
      "6 5 4\n",
      "3 2 1\n",
      "Resultant Matrix:\n",
      "[[10 10 10]\n",
      " [10 10 10]\n",
      " [10 10 10]]\n"
     ]
    }
   ],
   "source": [
    "# TASK no. 01. (Matrix Addition)\n",
    "\n",
    "import numpy as np\n",
    "rows = int(input(\"Enter the number of rows: \"))\n",
    "cols = int(input(\"Enter the number of columns: \"))\n",
    "\n",
    "print(\"Enter the entries for the first matrix: \")\n",
    "matrix1= np.array([[int(x) for x in input().split()] for i in range (rows)])\n",
    "\n",
    "print(\"Enter the entries for the second matrix: \")\n",
    "matrix2 = np.array([[int(x) for x in input().split()] for i in range(rows)])\n",
    "\n",
    "result = matrix1 + matrix2\n",
    "print(\"Resultant Matrix:\")\n",
    "print(result)"
   ]
  },
  {
   "cell_type": "code",
   "execution_count": 3,
   "id": "428ddb8b",
   "metadata": {},
   "outputs": [
    {
     "name": "stdout",
     "output_type": "stream",
     "text": [
      "Enter the number of rows for the first matrix: 1\n",
      "Enter the number of columns for the first matrix: 2\n",
      "Enter the number of rows for the second matrix: 2\n",
      "Enter the number of columns for the second matrix: 2\n",
      "Enter the entries for the first matrix: \n",
      "2 5\n",
      "Enter the entries for the second matrix: \n",
      "1 3\n",
      "4 6\n",
      "Resultant Matrix: \n",
      "[[22 36]]\n"
     ]
    }
   ],
   "source": [
    "# TASK no. 02. (Matrix Multiplication)\n",
    "\n",
    "import numpy as np\n",
    "rows1 = int(input(\"Enter the number of rows for the first matrix: \")) \n",
    "cols1 = int(input(\"Enter the number of columns for the first matrix: \"))\n",
    "\n",
    "rows2 = int(input(\"Enter the number of rows for the second matrix: \"))\n",
    "cols2 = int(input(\"Enter the number of columns for the second matrix: \"))\n",
    "\n",
    "if cols1 != rows2:\n",
    "    print(\"Not possible. The number of cols in 1st matrix must be equal to number of rows in 2nd matrix\")\n",
    "else:\n",
    "    print(\"Enter the entries for the first matrix: \")\n",
    "    matrix1 = np.array([[int(x) for x in input().split()] for _ in range(rows1)])\n",
    "    print(\"Enter the entries for the second matrix: \")\n",
    "    matrix2 = np.array([[int(x) for x in input().split()] for _ in range(rows2)])\n",
    "    \n",
    "    result = np.dot(matrix1, matrix2)\n",
    "    print(\"Resultant Matrix: \")\n",
    "    print(result)"
   ]
  },
  {
   "cell_type": "code",
   "execution_count": null,
   "id": "25399ebd",
   "metadata": {},
   "outputs": [],
   "source": []
  }
 ],
 "metadata": {
  "kernelspec": {
   "display_name": "Python 3 (ipykernel)",
   "language": "python",
   "name": "python3"
  },
  "language_info": {
   "codemirror_mode": {
    "name": "ipython",
    "version": 3
   },
   "file_extension": ".py",
   "mimetype": "text/x-python",
   "name": "python",
   "nbconvert_exporter": "python",
   "pygments_lexer": "ipython3",
   "version": "3.11.7"
  }
 },
 "nbformat": 4,
 "nbformat_minor": 5
}
